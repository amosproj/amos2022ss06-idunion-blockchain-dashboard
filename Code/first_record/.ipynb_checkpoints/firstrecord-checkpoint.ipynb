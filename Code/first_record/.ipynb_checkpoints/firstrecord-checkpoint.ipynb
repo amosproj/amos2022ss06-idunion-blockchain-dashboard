{
 "cells": [
  {
   "cell_type": "markdown",
   "metadata": {
    "pycharm": {
     "name": "#%% md\n"
    }
   },
   "source": [
    "# Step 1: Getting Trust Anchor Crentials for WineShop and Government\n",
    "\n",
    "- Ledger intended to store **Identity Records** that describe a **Ledger Identity**\n",
    "- **Identity Records** are public data and may include Public Keys, Service Endpoints, Credential Schemas, Credential Definitions\n",
    "- Every **Identity Record** is associated with exactly one **DID** (Decentralized Identifier) that is gloablly unique and resolvable (via a ledger) without requiring centralized resolution authority\n",
    "- To maintain privacy each **Identity Owner** can own multiple DIDs\n",
    "\n",
    "## DIDS\n",
    "1. Verinym\n",
    "    - associated with **Legal Identity** of **Identity Owner**\n",
    "    - all parties should be able to verify that some DID is used by a Government to publish schemas for some document type\n",
    "2. Pseudonym\n",
    "    - **Blinded Identifier** to maintain privacy in the context of ongoing digital relationship (**Connection**)\n",
    "    - if only one digital relationship: **Pairwise-Unique Identifier**\n",
    "\n",
    "## NYM transaction\n",
    "- creation of a DID known to the ledger is an **Identity Record** itself\n",
    "- can be used for \n",
    "    - creation of new DIDs known to that \n",
    "    - setting and rotation of verification key\n",
    "    - setting and changing of roles\n",
    "- most important fields of NYM transaction\n",
    "    - ```dest```(target DID)\n",
    "    - ```role```(role of a use NYM record being created for)\n",
    "    - ```verkey``` (target verification key)\n",
    "\n",
    "## DID verification key\n",
    "- allows person, organization or thing to verify that someone owns this DID as that person, organization or thing is the **only one** who knows corresponding signing key and any DID-related operations requiring signing with this key\n",
    "\n",
    "## Trust Anchor\n",
    "- everyone who wants to publish on public permissioned ledger needs to get role of **Trust Anchor** on the ledger\n",
    "- person or organization ledger already knows about\n",
    "- **first step towards being able to place transactions on the ledger involves getting role of Trust Anchor on the ledger**\n",
    "- becoming Trust Anchor requires contacting person or organization who already has Trust Anchor role on the ledger\n",
    "\n",
    "## Stewards\n",
    "- all Stewards are automatically **Trust Anchors**\n",
    "\n",
    "WineShop needs to get the role of a **Trust Anchor** on the ledger to create Verinyms and Pairwise-Unique-Identifiers to provide service to customers"
   ]
  },
  {
   "cell_type": "markdown",
   "metadata": {
    "pycharm": {
     "name": "#%% md\n"
    }
   },
   "source": [
    "# Step 2: Connecting to the Indy Nodes Pool\n",
    "\n",
    "## Code of the **Steward's** agent\n",
    "### Pool Configuration\n",
    "- To write and read ledger's transactions after gaining proper role, connection to Indy nodes pool is required\n",
    "- Set up connection to different existing pools (e.g. Sovrin pool), pool configuration needs to be set up\n",
    "- list of nodes in the pool is stored in the ledger as NODE transactions\n",
    "- Libindy allows you to restore actual list of NODE transactions by a few known transactions (genesis transactions)\n",
    "- Each **Pool Configuration** defined as pair of pool configuration **name** and pool configuration **JSON**\n",
    "- most important field in pool configuration: **path to the file with list of genesis transactions**\n",
    "\n",
    "```pool.create_pool_ledger_config``` call allows you to create a named pool configuration\n",
    "- After the pool configuration is created we can connect to the nodes pool that this configuration describes by ```calling pool.open_pool_ledger``` \n",
    "    - This call returns the pool handle that can be used to reference this opened connection in future libindy calls"
   ]
  },
  {
   "cell_type": "code",
   "execution_count": 1,
   "outputs": [],
   "source": [
    "#pip install indy"
   ],
   "metadata": {
    "collapsed": false,
    "pycharm": {
     "name": "#%%\n"
    }
   }
  },
  {
   "cell_type": "code",
   "execution_count": null,
   "outputs": [],
   "source": [
    "import asyncio\n",
    "import time\n",
    "import json\n",
    "\n",
    "from indy import ledger, pool, wallet, IndyError\n",
    "from indy.error import ErrorCode"
   ],
   "metadata": {
    "collapsed": false,
    "pycharm": {
     "name": "#%%\n",
     "is_executing": true
    }
   }
  },
  {
   "cell_type": "code",
   "execution_count": null,
   "outputs": [],
   "source": [
    "await pool.set_protocol_version(2)\n",
    "\n",
    "# pool configuration name\n",
    "pool_ = {'name': 'pool1'}\n",
    "# path to the file with list of genesis transactions\n",
    "pool_['genesis_txn_path'] = get_pool_\n",
    "genesis_txn_path(pool_['name'])\n",
    "# pool configuration JSON\n",
    "pool_['config'] = json.dumps({\"genesis_txn\": str(pool_['genesis_txn_path'])})\n",
    "# create named pool configuration\n",
    "await pool.create_pool_ledger_config(pool_['name'], pool_['config'])\n",
    "# connect to nodes pool\n",
    "pool_['handle'] = await pool.open_pool_ledger(pool_['name'], None)"
   ],
   "metadata": {
    "collapsed": false,
    "pycharm": {
     "name": "#%%\n"
    }
   }
  },
  {
   "cell_type": "markdown",
   "source": [
    "# Step 3: Getting the ownership for Steward's Verinym\n",
    "-  Steward's agent should get ownership for the DID that has corresponding NYM transactions with Steward role on the ledger\n",
    "\n",
    "## Seed values\n",
    "- for random number generator used to generate keys for NYMs\n",
    "- restore signing keys for DIDs on Steward's agent side and as a result get DID ownership\n",
    "\n",
    "## Libindy Wallet\n",
    "- secure storage for crypto materials like DIDs, keys, etc\n",
    "- To store **Steward's** DID and corresponding signkey, agent should create named wallet first by calling ```wallet.create_wallet```"
   ],
   "metadata": {
    "collapsed": false,
    "pycharm": {
     "name": "#%% md\n"
    }
   }
  },
  {
   "cell_type": "code",
   "execution_count": null,
   "outputs": [],
   "source": [
    "# Steward Agent\n",
    "steward = {\n",
    "    'name': \"Sovrin Steward\",\n",
    "    'wallet_config': json.dumps({'id': 'sovrin_steward_wallet'}),\n",
    "    'wallet_credentials': json.dumps{('key': 'steward_wallet_key'},\n",
    "    'pool': pool_['handle'],\n",
    "    'seed': '000000000000000000000000Steward1'\n",
    "}\n",
    "\n",
    "# create named wallet to store Steward's DID and corresponding signkey\n",
    "await wallet.create_wallet(steward['wallet_config'], steward['wallet_credentials'])\n",
    "print(steward['wallet_config'])"
   ],
   "metadata": {
    "collapsed": false,
    "pycharm": {
     "name": "#%%\n"
    }
   }
  }
 ],
 "metadata": {
  "language_info": {
   "name": "python"
  },
  "orig_nbformat": 4
 },
 "nbformat": 4,
 "nbformat_minor": 2
}